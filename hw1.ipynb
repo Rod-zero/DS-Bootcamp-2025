{
 "cells": [
  {
   "cell_type": "markdown",
   "id": "c15b51bb-9359-4fed-9962-985042c28f6a",
   "metadata": {},
   "source": [
    "Take-Home Assignment\n",
    "\n",
    "Solve the following problems.\n",
    "\n",
    "1.⁠ ⁠Display Fibonacci Series upto 10 terms\n",
    "\n",
    "2.⁠ ⁠Display numbers at the odd indices of a list\n",
    "\n",
    "3.⁠ ⁠⁠string = \"\"\"\n",
    "\n",
    "I have provided this text to provide tips on creating interesting paragraphs.\n",
    "\n",
    "First, start with a clear topic sentence that introduces the main idea.\n",
    "\n",
    "Then, support the topic sentence with specific details, examples, and evidence.\n",
    "\n",
    "Vary the sentence length and structure to keep the reader engaged.\n",
    "\n",
    "Finally, end with a strong concluding sentence that summarizes the main points.\n",
    "\n",
    "Remember, practice makes perfect!\n",
    "\n",
    "\"\"\"\n",
    "\n",
    "#Your task is to count the number of different words in this text\n",
    "\n",
    "4.⁠ ⁠Write a function count_vowels(word) that takes a word as an argument and returns the number of vowels in the word\n",
    "\n",
    "5.⁠ ⁠Iterate through the following list of animals and print each one in all caps.\n",
    "\n",
    "animals=['tiger', 'elephant', 'monkey', 'zebra', 'panther']\n",
    "\n",
    "6.⁠ ⁠Write a program that iterates from 1 to 20, printing each number and whether it's odd or even.\n",
    "\n",
    "7.⁠ ⁠Write a function sum_of_integers(a, b) that takes two integers as input from the user and returns their sum."
   ]
  },
  {
   "cell_type": "code",
   "execution_count": 1,
   "id": "b153d857-98d4-4d86-b2ed-a34f9ec2014d",
   "metadata": {},
   "outputs": [
    {
     "name": "stdout",
     "output_type": "stream",
     "text": [
      "0 1 1 2 3 5 8 13 21 34 "
     ]
    }
   ],
   "source": [
    "# 1.⁠ ⁠Display Fibonacci Series upto 10 terms\n",
    "n = 10\n",
    "a, b = 0, 1\n",
    "\n",
    "for i in range(n):\n",
    "    print(a, end=' ')\n",
    "    a, b = b, a+b"
   ]
  },
  {
   "cell_type": "code",
   "execution_count": 2,
   "id": "cc6ce85e-a249-4570-93f8-81106032c6b2",
   "metadata": {},
   "outputs": [
    {
     "name": "stdout",
     "output_type": "stream",
     "text": [
      "3\n",
      "2\n",
      "7\n",
      "10\n",
      "17\n"
     ]
    }
   ],
   "source": [
    "# 2.⁠ ⁠Display numbers at the odd indices of a list\n",
    "l = [1, 3, 4, 2, 5, 7, 8, 10, 15, 17]\n",
    "\n",
    "for i in range(len(l)):\n",
    "    if i%2 != 0:\n",
    "        print(l[i])"
   ]
  },
  {
   "cell_type": "code",
   "execution_count": 3,
   "id": "36b3edf7-41c5-4e58-aed5-0dbf40d95046",
   "metadata": {},
   "outputs": [
    {
     "data": {
      "text/plain": [
       "{'i': 1,\n",
       " 'have': 1,\n",
       " 'provided': 1,\n",
       " 'this': 1,\n",
       " 'text': 1,\n",
       " 'to': 2,\n",
       " 'provide': 1,\n",
       " 'tips': 1,\n",
       " 'on': 1,\n",
       " 'creating': 1,\n",
       " 'interesting': 1,\n",
       " 'paragraphs': 1,\n",
       " 'first': 1,\n",
       " 'start': 1,\n",
       " 'with': 3,\n",
       " 'a': 2,\n",
       " 'clear': 1,\n",
       " 'topic': 2,\n",
       " 'sentence': 4,\n",
       " 'that': 2,\n",
       " 'introduces': 1,\n",
       " 'the': 5,\n",
       " 'main': 2,\n",
       " 'idea': 1,\n",
       " 'then': 1,\n",
       " 'support': 1,\n",
       " 'specific': 1,\n",
       " 'details': 1,\n",
       " 'examples': 1,\n",
       " 'and': 2,\n",
       " 'evidence': 1,\n",
       " 'vary': 1,\n",
       " 'length': 1,\n",
       " 'structure': 1,\n",
       " 'keep': 1,\n",
       " 'reader': 1,\n",
       " 'engaged': 1,\n",
       " 'finally': 1,\n",
       " 'end': 1,\n",
       " 'strong': 1,\n",
       " 'concluding': 1,\n",
       " 'summarizes': 1,\n",
       " 'points': 1,\n",
       " 'remember': 1,\n",
       " 'practice': 1,\n",
       " 'makes': 1,\n",
       " 'perfect!': 1}"
      ]
     },
     "execution_count": 3,
     "metadata": {},
     "output_type": "execute_result"
    }
   ],
   "source": [
    "# 3. Your task is to count the number of different words in this text\n",
    "string = \"\"\"\n",
    "I have provided this text to provide tips on creating interesting paragraphs.\n",
    "First, start with a clear topic sentence that introduces the main idea.\n",
    "Then, support the topic sentence with specific details, examples, and evidence.\n",
    "Vary the sentence length and structure to keep the reader engaged.\n",
    "Finally, end with a strong concluding sentence that summarizes the main points.\n",
    "Remember, practice makes perfect!\n",
    "\"\"\"\n",
    "\n",
    "def count_word(strings):\n",
    "    strings = strings.lower()\n",
    "    \n",
    "    punctuation = '.,'\n",
    "    for char in punctuation:\n",
    "        strings = strings.replace(char, '')\n",
    "\n",
    "    words = strings.split()\n",
    "    count = {}\n",
    "    for i in words:\n",
    "        if i in count:\n",
    "            count[i] += 1\n",
    "        else:\n",
    "            count[i] = 1\n",
    "    return count\n",
    "\n",
    "count_word(string)"
   ]
  },
  {
   "cell_type": "code",
   "execution_count": 4,
   "id": "7236419d-c68f-45fa-961f-995c24eef666",
   "metadata": {},
   "outputs": [
    {
     "data": {
      "text/plain": [
       "{'a': 3, 'e': 1, 'i': 1}"
      ]
     },
     "execution_count": 4,
     "metadata": {},
     "output_type": "execute_result"
    }
   ],
   "source": [
    "# 4.⁠ ⁠Write a function count_vowels(word) that takes a word as an argument and returns the number of vowels in the word\n",
    "vowels = ['a', 'e', 'i', 'o', 'u']\n",
    "\n",
    "def count_vowels(word):\n",
    "    count = {}\n",
    "    for i in word:\n",
    "        if i in vowels:\n",
    "            if i in count:\n",
    "                count[i] += 1\n",
    "            else:\n",
    "                count[i] = 1\n",
    "    return count\n",
    "\n",
    "test_word = 'mathematical'\n",
    "count_vowels(test_word)"
   ]
  },
  {
   "cell_type": "code",
   "execution_count": 5,
   "id": "89b07e59-59ed-468e-bbe3-d3e069e5f747",
   "metadata": {},
   "outputs": [
    {
     "name": "stdout",
     "output_type": "stream",
     "text": [
      "TIGER\n",
      "ELEPHANT\n",
      "MONKEY\n",
      "ZEBRA\n",
      "PANTHER\n"
     ]
    }
   ],
   "source": [
    "# 5.⁠ ⁠Iterate through the following list of animals and print each one in all caps.\n",
    "animals=['tiger', 'elephant', 'monkey', 'zebra', 'panther']\n",
    "\n",
    "for i in animals:\n",
    "    print(i.upper())"
   ]
  },
  {
   "cell_type": "code",
   "execution_count": 6,
   "id": "feb85a68-89db-4f05-8c47-be906e058bc5",
   "metadata": {},
   "outputs": [
    {
     "name": "stdout",
     "output_type": "stream",
     "text": [
      "1  is odd\n",
      "2  is even\n",
      "3  is odd\n",
      "4  is even\n",
      "5  is odd\n",
      "6  is even\n",
      "7  is odd\n",
      "8  is even\n",
      "9  is odd\n",
      "10  is even\n",
      "11  is odd\n",
      "12  is even\n",
      "13  is odd\n",
      "14  is even\n",
      "15  is odd\n",
      "16  is even\n",
      "17  is odd\n",
      "18  is even\n",
      "19  is odd\n",
      "20  is even\n"
     ]
    }
   ],
   "source": [
    "# 6.⁠ ⁠Write a program that iterates from 1 to 20, printing each number and whether it's odd or even.\n",
    "for i in range(1,21):\n",
    "    if i%2 != 0:\n",
    "        print(i, ' is odd')\n",
    "    else:\n",
    "        print(i, ' is even')"
   ]
  },
  {
   "cell_type": "code",
   "execution_count": 7,
   "id": "d227a557-c147-46ee-bf71-5e5a2480bceb",
   "metadata": {},
   "outputs": [
    {
     "data": {
      "text/plain": [
       "9"
      ]
     },
     "execution_count": 7,
     "metadata": {},
     "output_type": "execute_result"
    }
   ],
   "source": [
    "# 7.⁠ ⁠Write a function sum_of_integers(a, b) that takes two integers as input from the user and returns their sum.\n",
    "def sum_of_integers(a, b):\n",
    "    return a + b\n",
    "\n",
    "a, b = 3, 6\n",
    "sum_of_integers(a, b)"
   ]
  },
  {
   "cell_type": "code",
   "execution_count": null,
   "id": "20cb2341-0963-4837-adac-3d2f3b7e58f0",
   "metadata": {},
   "outputs": [],
   "source": []
  }
 ],
 "metadata": {
  "kernelspec": {
   "display_name": "Python 3 (ipykernel)",
   "language": "python",
   "name": "python3"
  },
  "language_info": {
   "codemirror_mode": {
    "name": "ipython",
    "version": 3
   },
   "file_extension": ".py",
   "mimetype": "text/x-python",
   "name": "python",
   "nbconvert_exporter": "python",
   "pygments_lexer": "ipython3",
   "version": "3.12.7"
  }
 },
 "nbformat": 4,
 "nbformat_minor": 5
}
